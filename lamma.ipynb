{
 "cells": [
  {
   "cell_type": "code",
   "execution_count": 1,
   "metadata": {},
   "outputs": [
    {
     "name": "stdout",
     "output_type": "stream",
     "text": [
      "Collecting git+https://github.com/huggingface/transformers.git\n",
      "  Cloning https://github.com/huggingface/transformers.git to c:\\users\\ilmir\\appdata\\local\\temp\\pip-req-build-_wcp8xv2\n",
      "  Resolved https://github.com/huggingface/transformers.git to commit 1360801a69c0b169e3efdbb0cd05d9a0e72bfb70\n",
      "  Installing build dependencies: started\n",
      "  Installing build dependencies: finished with status 'done'\n",
      "  Getting requirements to build wheel: started\n",
      "  Getting requirements to build wheel: finished with status 'done'\n",
      "    Preparing wheel metadata: started\n",
      "    Preparing wheel metadata: finished with status 'done'\n",
      "Collecting regex!=2019.12.17\n",
      "  Using cached regex-2024.5.10-cp310-cp310-win_amd64.whl (268 kB)\n",
      "Collecting requests\n",
      "  Using cached requests-2.31.0-py3-none-any.whl (62 kB)\n",
      "Collecting filelock\n",
      "  Using cached filelock-3.14.0-py3-none-any.whl (12 kB)\n",
      "Collecting tqdm>=4.27\n",
      "  Using cached tqdm-4.66.4-py3-none-any.whl (78 kB)\n",
      "Collecting huggingface-hub<1.0,>=0.23.0\n",
      "  Using cached huggingface_hub-0.23.0-py3-none-any.whl (401 kB)\n",
      "Collecting pyyaml>=5.1\n",
      "  Using cached PyYAML-6.0.1-cp310-cp310-win_amd64.whl (145 kB)\n",
      "Collecting tokenizers<0.20,>=0.19\n",
      "  Using cached tokenizers-0.19.1-cp310-none-win_amd64.whl (2.2 MB)\n",
      "Requirement already satisfied: packaging>=20.0 in d:\\akimov\\venv\\lib\\site-packages (from transformers==4.41.0.dev0) (24.0)\n",
      "Collecting safetensors>=0.4.1\n",
      "  Using cached safetensors-0.4.3-cp310-none-win_amd64.whl (287 kB)\n",
      "Collecting numpy>=1.17\n",
      "  Using cached numpy-1.26.4-cp310-cp310-win_amd64.whl (15.8 MB)\n",
      "Requirement already satisfied: typing-extensions>=3.7.4.3 in d:\\akimov\\venv\\lib\\site-packages (from huggingface-hub<1.0,>=0.23.0->transformers==4.41.0.dev0) (4.11.0)\n",
      "Collecting fsspec>=2023.5.0\n",
      "  Using cached fsspec-2024.3.1-py3-none-any.whl (171 kB)\n",
      "Requirement already satisfied: colorama in d:\\akimov\\venv\\lib\\site-packages (from tqdm>=4.27->transformers==4.41.0.dev0) (0.4.6)\n",
      "Collecting idna<4,>=2.5\n",
      "  Using cached idna-3.7-py3-none-any.whl (66 kB)\n",
      "Collecting charset-normalizer<4,>=2\n",
      "  Using cached charset_normalizer-3.3.2-cp310-cp310-win_amd64.whl (100 kB)\n",
      "Collecting certifi>=2017.4.17\n",
      "  Using cached certifi-2024.2.2-py3-none-any.whl (163 kB)\n",
      "Collecting urllib3<3,>=1.21.1\n",
      "  Using cached urllib3-2.2.1-py3-none-any.whl (121 kB)\n",
      "Building wheels for collected packages: transformers\n",
      "  Building wheel for transformers (PEP 517): started\n",
      "  Building wheel for transformers (PEP 517): finished with status 'done'\n",
      "  Created wheel for transformers: filename=transformers-4.41.0.dev0-py3-none-any.whl size=9055448 sha256=16868949d2ec2b4adedc108241cafea7230041a3348dd5583903855ae0f576dd\n",
      "  Stored in directory: C:\\Users\\ilmir\\AppData\\Local\\Temp\\pip-ephem-wheel-cache-9txr5sws\\wheels\\e7\\9c\\5b\\e1a9c8007c343041e61cc484433d512ea9274272e3fcbe7c16\n",
      "Successfully built transformers\n",
      "Installing collected packages: urllib3, idna, charset-normalizer, certifi, tqdm, requests, pyyaml, fsspec, filelock, huggingface-hub, tokenizers, safetensors, regex, numpy, transformers\n",
      "Successfully installed certifi-2024.2.2 charset-normalizer-3.3.2 filelock-3.14.0 fsspec-2024.3.1 huggingface-hub-0.23.0 idna-3.7 numpy-1.26.4 pyyaml-6.0.1 regex-2024.5.10 requests-2.31.0 safetensors-0.4.3 tokenizers-0.19.1 tqdm-4.66.4 transformers-4.41.0.dev0 urllib3-2.2.1\n",
      "Note: you may need to restart the kernel to use updated packages.\n"
     ]
    },
    {
     "name": "stderr",
     "output_type": "stream",
     "text": [
      "  Running command git clone -q https://github.com/huggingface/transformers.git 'C:\\Users\\ilmir\\AppData\\Local\\Temp\\pip-req-build-_wcp8xv2'\n",
      "WARNING: You are using pip version 21.2.3; however, version 24.0 is available.\n",
      "You should consider upgrading via the 'd:\\Akimov\\venv\\Scripts\\python.exe -m pip install --upgrade pip' command.\n"
     ]
    },
    {
     "name": "stdout",
     "output_type": "stream",
     "text": [
      "Collecting bitsandbytes\n",
      "  Using cached bitsandbytes-0.43.1-py3-none-win_amd64.whl (101.6 MB)\n",
      "Collecting accelerate\n",
      "  Using cached accelerate-0.30.1-py3-none-any.whl (302 kB)\n",
      "Requirement already satisfied: numpy in d:\\akimov\\venv\\lib\\site-packages (from bitsandbytes) (1.26.4)\n",
      "Collecting torch\n",
      "  Using cached torch-2.3.0-cp310-cp310-win_amd64.whl (159.8 MB)\n",
      "Requirement already satisfied: packaging>=20.0 in d:\\akimov\\venv\\lib\\site-packages (from accelerate) (24.0)\n",
      "Requirement already satisfied: pyyaml in d:\\akimov\\venv\\lib\\site-packages (from accelerate) (6.0.1)\n",
      "Requirement already satisfied: safetensors>=0.3.1 in d:\\akimov\\venv\\lib\\site-packages (from accelerate) (0.4.3)\n",
      "Requirement already satisfied: psutil in d:\\akimov\\venv\\lib\\site-packages (from accelerate) (5.9.8)\n",
      "Requirement already satisfied: huggingface-hub in d:\\akimov\\venv\\lib\\site-packages (from accelerate) (0.23.0)\n",
      "Requirement already satisfied: fsspec in d:\\akimov\\venv\\lib\\site-packages (from torch->bitsandbytes) (2024.3.1)\n",
      "Collecting jinja2\n",
      "  Using cached jinja2-3.1.4-py3-none-any.whl (133 kB)\n",
      "Collecting sympy\n",
      "  Using cached sympy-1.12-py3-none-any.whl (5.7 MB)\n",
      "Requirement already satisfied: typing-extensions>=4.8.0 in d:\\akimov\\venv\\lib\\site-packages (from torch->bitsandbytes) (4.11.0)\n",
      "Requirement already satisfied: filelock in d:\\akimov\\venv\\lib\\site-packages (from torch->bitsandbytes) (3.14.0)\n",
      "Collecting mkl<=2021.4.0,>=2021.1.1\n",
      "  Using cached mkl-2021.4.0-py2.py3-none-win_amd64.whl (228.5 MB)\n",
      "Collecting networkx\n",
      "  Using cached networkx-3.3-py3-none-any.whl (1.7 MB)\n",
      "Collecting tbb==2021.*\n",
      "  Using cached tbb-2021.12.0-py3-none-win_amd64.whl (286 kB)\n",
      "Collecting intel-openmp==2021.*\n",
      "  Using cached intel_openmp-2021.4.0-py2.py3-none-win_amd64.whl (3.5 MB)\n",
      "Requirement already satisfied: requests in d:\\akimov\\venv\\lib\\site-packages (from huggingface-hub->accelerate) (2.31.0)\n",
      "Requirement already satisfied: tqdm>=4.42.1 in d:\\akimov\\venv\\lib\\site-packages (from huggingface-hub->accelerate) (4.66.4)\n",
      "Requirement already satisfied: colorama in d:\\akimov\\venv\\lib\\site-packages (from tqdm>=4.42.1->huggingface-hub->accelerate) (0.4.6)\n",
      "Collecting MarkupSafe>=2.0\n",
      "  Using cached MarkupSafe-2.1.5-cp310-cp310-win_amd64.whl (17 kB)\n",
      "Requirement already satisfied: certifi>=2017.4.17 in d:\\akimov\\venv\\lib\\site-packages (from requests->huggingface-hub->accelerate) (2024.2.2)\n",
      "Requirement already satisfied: urllib3<3,>=1.21.1 in d:\\akimov\\venv\\lib\\site-packages (from requests->huggingface-hub->accelerate) (2.2.1)\n",
      "Requirement already satisfied: idna<4,>=2.5 in d:\\akimov\\venv\\lib\\site-packages (from requests->huggingface-hub->accelerate) (3.7)\n",
      "Requirement already satisfied: charset-normalizer<4,>=2 in d:\\akimov\\venv\\lib\\site-packages (from requests->huggingface-hub->accelerate) (3.3.2)\n",
      "Collecting mpmath>=0.19\n",
      "  Using cached mpmath-1.3.0-py3-none-any.whl (536 kB)\n",
      "Installing collected packages: tbb, mpmath, MarkupSafe, intel-openmp, sympy, networkx, mkl, jinja2, torch, bitsandbytes, accelerate\n",
      "Successfully installed MarkupSafe-2.1.5 accelerate-0.30.1 bitsandbytes-0.43.1 intel-openmp-2021.4.0 jinja2-3.1.4 mkl-2021.4.0 mpmath-1.3.0 networkx-3.3 sympy-1.12 tbb-2021.12.0 torch-2.3.0\n",
      "Note: you may need to restart the kernel to use updated packages.\n"
     ]
    },
    {
     "name": "stderr",
     "output_type": "stream",
     "text": [
      "WARNING: You are using pip version 21.2.3; however, version 24.0 is available.\n",
      "You should consider upgrading via the 'd:\\Akimov\\venv\\Scripts\\python.exe -m pip install --upgrade pip' command.\n"
     ]
    },
    {
     "name": "stdout",
     "output_type": "stream",
     "text": [
      "Collecting git+https://github.com/huggingface/peft.git\n",
      "  Cloning https://github.com/huggingface/peft.git to c:\\users\\ilmir\\appdata\\local\\temp\\pip-req-build-f8l4s264\n",
      "  Resolved https://github.com/huggingface/peft.git to commit 748f7968f3a31ec06a1c2b0328993319ad9a150a\n",
      "  Installing build dependencies: started\n",
      "  Installing build dependencies: finished with status 'done'\n",
      "  Getting requirements to build wheel: started\n",
      "  Getting requirements to build wheel: finished with status 'done'\n",
      "    Preparing wheel metadata: started\n",
      "    Preparing wheel metadata: finished with status 'done'\n",
      "Requirement already satisfied: safetensors in d:\\akimov\\venv\\lib\\site-packages (from peft==0.10.1.dev0) (0.4.3)\n",
      "Requirement already satisfied: packaging>=20.0 in d:\\akimov\\venv\\lib\\site-packages (from peft==0.10.1.dev0) (24.0)\n",
      "Requirement already satisfied: psutil in d:\\akimov\\venv\\lib\\site-packages (from peft==0.10.1.dev0) (5.9.8)\n",
      "Requirement already satisfied: accelerate>=0.21.0 in d:\\akimov\\venv\\lib\\site-packages (from peft==0.10.1.dev0) (0.30.1)\n",
      "Requirement already satisfied: huggingface-hub>=0.17.0 in d:\\akimov\\venv\\lib\\site-packages (from peft==0.10.1.dev0) (0.23.0)\n",
      "Requirement already satisfied: transformers in d:\\akimov\\venv\\lib\\site-packages (from peft==0.10.1.dev0) (4.41.0.dev0)\n",
      "Requirement already satisfied: numpy>=1.17 in d:\\akimov\\venv\\lib\\site-packages (from peft==0.10.1.dev0) (1.26.4)\n",
      "Requirement already satisfied: pyyaml in d:\\akimov\\venv\\lib\\site-packages (from peft==0.10.1.dev0) (6.0.1)\n",
      "Requirement already satisfied: torch>=1.13.0 in d:\\akimov\\venv\\lib\\site-packages (from peft==0.10.1.dev0) (2.3.0)\n",
      "Requirement already satisfied: tqdm in d:\\akimov\\venv\\lib\\site-packages (from peft==0.10.1.dev0) (4.66.4)\n",
      "Requirement already satisfied: requests in d:\\akimov\\venv\\lib\\site-packages (from huggingface-hub>=0.17.0->peft==0.10.1.dev0) (2.31.0)\n",
      "Requirement already satisfied: typing-extensions>=3.7.4.3 in d:\\akimov\\venv\\lib\\site-packages (from huggingface-hub>=0.17.0->peft==0.10.1.dev0) (4.11.0)\n",
      "Requirement already satisfied: filelock in d:\\akimov\\venv\\lib\\site-packages (from huggingface-hub>=0.17.0->peft==0.10.1.dev0) (3.14.0)\n",
      "Requirement already satisfied: fsspec>=2023.5.0 in d:\\akimov\\venv\\lib\\site-packages (from huggingface-hub>=0.17.0->peft==0.10.1.dev0) (2024.3.1)\n",
      "Requirement already satisfied: mkl<=2021.4.0,>=2021.1.1 in d:\\akimov\\venv\\lib\\site-packages (from torch>=1.13.0->peft==0.10.1.dev0) (2021.4.0)\n",
      "Requirement already satisfied: sympy in d:\\akimov\\venv\\lib\\site-packages (from torch>=1.13.0->peft==0.10.1.dev0) (1.12)\n",
      "Requirement already satisfied: networkx in d:\\akimov\\venv\\lib\\site-packages (from torch>=1.13.0->peft==0.10.1.dev0) (3.3)\n",
      "Requirement already satisfied: jinja2 in d:\\akimov\\venv\\lib\\site-packages (from torch>=1.13.0->peft==0.10.1.dev0) (3.1.4)\n",
      "Requirement already satisfied: intel-openmp==2021.* in d:\\akimov\\venv\\lib\\site-packages (from mkl<=2021.4.0,>=2021.1.1->torch>=1.13.0->peft==0.10.1.dev0) (2021.4.0)\n",
      "Requirement already satisfied: tbb==2021.* in d:\\akimov\\venv\\lib\\site-packages (from mkl<=2021.4.0,>=2021.1.1->torch>=1.13.0->peft==0.10.1.dev0) (2021.12.0)\n",
      "Requirement already satisfied: colorama in d:\\akimov\\venv\\lib\\site-packages (from tqdm->peft==0.10.1.dev0) (0.4.6)\n",
      "Requirement already satisfied: MarkupSafe>=2.0 in d:\\akimov\\venv\\lib\\site-packages (from jinja2->torch>=1.13.0->peft==0.10.1.dev0) (2.1.5)\n",
      "Requirement already satisfied: charset-normalizer<4,>=2 in d:\\akimov\\venv\\lib\\site-packages (from requests->huggingface-hub>=0.17.0->peft==0.10.1.dev0) (3.3.2)\n",
      "Requirement already satisfied: idna<4,>=2.5 in d:\\akimov\\venv\\lib\\site-packages (from requests->huggingface-hub>=0.17.0->peft==0.10.1.dev0) (3.7)\n",
      "Requirement already satisfied: certifi>=2017.4.17 in d:\\akimov\\venv\\lib\\site-packages (from requests->huggingface-hub>=0.17.0->peft==0.10.1.dev0) (2024.2.2)\n",
      "Requirement already satisfied: urllib3<3,>=1.21.1 in d:\\akimov\\venv\\lib\\site-packages (from requests->huggingface-hub>=0.17.0->peft==0.10.1.dev0) (2.2.1)\n",
      "Requirement already satisfied: mpmath>=0.19 in d:\\akimov\\venv\\lib\\site-packages (from sympy->torch>=1.13.0->peft==0.10.1.dev0) (1.3.0)\n",
      "Requirement already satisfied: tokenizers<0.20,>=0.19 in d:\\akimov\\venv\\lib\\site-packages (from transformers->peft==0.10.1.dev0) (0.19.1)\n",
      "Requirement already satisfied: regex!=2019.12.17 in d:\\akimov\\venv\\lib\\site-packages (from transformers->peft==0.10.1.dev0) (2024.5.10)\n",
      "Building wheels for collected packages: peft\n",
      "  Building wheel for peft (PEP 517): started\n",
      "  Building wheel for peft (PEP 517): finished with status 'done'\n",
      "  Created wheel for peft: filename=peft-0.10.1.dev0-py3-none-any.whl size=251751 sha256=706249164bc9ec6aa7cec6a665ec6e17bf4a70902051bbb92207b3613aaf9527\n",
      "  Stored in directory: C:\\Users\\ilmir\\AppData\\Local\\Temp\\pip-ephem-wheel-cache-xmertt9m\\wheels\\d7\\c7\\de\\1368fac8590e1b103ddc2ec2a28ad51d83aded1a3830e8a087\n",
      "Successfully built peft\n",
      "Installing collected packages: peft\n",
      "Successfully installed peft-0.10.1.dev0\n",
      "Note: you may need to restart the kernel to use updated packages.\n"
     ]
    },
    {
     "name": "stderr",
     "output_type": "stream",
     "text": [
      "  Running command git clone -q https://github.com/huggingface/peft.git 'C:\\Users\\ilmir\\AppData\\Local\\Temp\\pip-req-build-f8l4s264'\n",
      "WARNING: You are using pip version 21.2.3; however, version 24.0 is available.\n",
      "You should consider upgrading via the 'd:\\Akimov\\venv\\Scripts\\python.exe -m pip install --upgrade pip' command.\n"
     ]
    }
   ],
   "source": [
    "%pip install git+https://github.com/huggingface/transformers.git -U\n",
    "%pip install bitsandbytes accelerate\n",
    "%pip install git+https://github.com/huggingface/peft.git -U"
   ]
  },
  {
   "cell_type": "code",
   "execution_count": 11,
   "metadata": {},
   "outputs": [
    {
     "name": "stdout",
     "output_type": "stream",
     "text": [
      "Note: you may need to restart the kernel to use updated packages.Looking in indexes: https://download.pytorch.org/whl/cu121\n",
      "Collecting torch\n",
      "  Downloading https://download.pytorch.org/whl/cu121/torch-2.3.0%2Bcu121-cp310-cp310-win_amd64.whl (2413.3 MB)\n",
      "Collecting torchvision\n",
      "  Downloading https://download.pytorch.org/whl/cu121/torchvision-0.18.0%2Bcu121-cp310-cp310-win_amd64.whl (5.7 MB)\n",
      "Collecting torchaudio\n",
      "  Downloading https://download.pytorch.org/whl/cu121/torchaudio-2.3.0%2Bcu121-cp310-cp310-win_amd64.whl (4.1 MB)\n",
      "Requirement already satisfied: mkl<=2021.4.0,>=2021.1.1 in d:\\akimov\\venv\\lib\\site-packages (from torch) (2021.4.0)\n",
      "Requirement already satisfied: networkx in d:\\akimov\\venv\\lib\\site-packages (from torch) (3.3)\n",
      "Requirement already satisfied: filelock in d:\\akimov\\venv\\lib\\site-packages (from torch) (3.14.0)\n",
      "Requirement already satisfied: sympy in d:\\akimov\\venv\\lib\\site-packages (from torch) (1.12)\n",
      "Requirement already satisfied: typing-extensions>=4.8.0 in d:\\akimov\\venv\\lib\\site-packages (from torch) (4.11.0)\n",
      "Requirement already satisfied: jinja2 in d:\\akimov\\venv\\lib\\site-packages (from torch) (3.1.4)\n",
      "Requirement already satisfied: fsspec in d:\\akimov\\venv\\lib\\site-packages (from torch) (2024.3.1)\n",
      "Collecting pillow!=8.3.*,>=5.3.0\n",
      "  Using cached https://download.pytorch.org/whl/pillow-10.2.0-cp310-cp310-win_amd64.whl (2.6 MB)\n",
      "Requirement already satisfied: numpy in d:\\akimov\\venv\\lib\\site-packages (from torchvision) (1.26.4)\n",
      "Requirement already satisfied: intel-openmp==2021.* in d:\\akimov\\venv\\lib\\site-packages (from mkl<=2021.4.0,>=2021.1.1->torch) (2021.4.0)\n",
      "Requirement already satisfied: tbb==2021.* in d:\\akimov\\venv\\lib\\site-packages (from mkl<=2021.4.0,>=2021.1.1->torch) (2021.12.0)\n",
      "Requirement already satisfied: MarkupSafe>=2.0 in d:\\akimov\\venv\\lib\\site-packages (from jinja2->torch) (2.1.5)\n",
      "Requirement already satisfied: mpmath>=0.19 in d:\\akimov\\venv\\lib\\site-packages (from sympy->torch) (1.3.0)\n",
      "Installing collected packages: torch, pillow, torchvision, torchaudio\n",
      "Successfully installed pillow-10.2.0 torch-2.3.0+cu121 torchaudio-2.3.0+cu121 torchvision-0.18.0+cu121\n",
      "\n"
     ]
    },
    {
     "name": "stderr",
     "output_type": "stream",
     "text": [
      "WARNING: You are using pip version 21.2.3; however, version 24.0 is available.\n",
      "You should consider upgrading via the 'd:\\Akimov\\venv\\Scripts\\python.exe -m pip install --upgrade pip' command.\n"
     ]
    }
   ],
   "source": [
    "pip install torch torchvision torchaudio --index-url https://download.pytorch.org/whl/cu121"
   ]
  },
  {
   "cell_type": "code",
   "execution_count": 3,
   "metadata": {},
   "outputs": [
    {
     "name": "stderr",
     "output_type": "stream",
     "text": [
      "d:\\Akimov\\venv\\lib\\site-packages\\tqdm\\auto.py:21: TqdmWarning: IProgress not found. Please update jupyter and ipywidgets. See https://ipywidgets.readthedocs.io/en/stable/user_install.html\n",
      "  from .autonotebook import tqdm as notebook_tqdm\n",
      "The `load_in_4bit` and `load_in_8bit` arguments are deprecated and will be removed in the future versions. Please, pass a `BitsAndBytesConfig` object in `quantization_config` argument instead.\n",
      "Unused kwargs: ['_load_in_4bit', '_load_in_8bit', 'quant_method']. These kwargs are not used in <class 'transformers.utils.quantization_config.BitsAndBytesConfig'>.\n",
      "d:\\Akimov\\venv\\lib\\site-packages\\transformers\\quantizers\\auto.py:167: UserWarning: You passed `quantization_config` or equivalent parameters to `from_pretrained` but the model you're loading already has a `quantization_config` attribute. The `quantization_config` from the model will be used.\n",
      "  warnings.warn(warning_msg)\n",
      "`low_cpu_mem_usage` was None, now set to True since model is quantized.\n",
      "d:\\Akimov\\venv\\lib\\site-packages\\huggingface_hub\\file_download.py:157: UserWarning: `huggingface_hub` cache-system uses symlinks by default to efficiently store duplicated files but your machine does not support them in C:\\Users\\ilmir\\.cache\\huggingface\\hub\\models--unsloth--llama-3-8b-bnb-4bit. Caching files will still work but in a degraded version that might require more space on your disk. This warning can be disabled by setting the `HF_HUB_DISABLE_SYMLINKS_WARNING` environment variable. For more details, see https://huggingface.co/docs/huggingface_hub/how-to-cache#limitations.\n",
      "To support symlinks on Windows, you either need to activate Developer Mode or to run Python as an administrator. In order to see activate developer mode, see this article: https://docs.microsoft.com/en-us/windows/apps/get-started/enable-your-device-for-development\n",
      "  warnings.warn(message)\n",
      "Special tokens have been added in the vocabulary, make sure the associated word embeddings are fine-tuned or trained.\n",
      "Special tokens have been added in the vocabulary, make sure the associated word embeddings are fine-tuned or trained.\n"
     ]
    }
   ],
   "source": [
    "# I highly do NOT suggest - use Unsloth if possible\n",
    "import torch\n",
    "from peft import AutoPeftModelForCausalLM\n",
    "from transformers import AutoTokenizer\n",
    "model = AutoPeftModelForCausalLM.from_pretrained(\n",
    "    \"modellamma\", # YOUR MODEL YOU USED FOR TRAINING\n",
    "    load_in_4bit = True,\n",
    ")\n",
    "tokenizer = AutoTokenizer.from_pretrained(\"modellamma\")"
   ]
  },
  {
   "cell_type": "code",
   "execution_count": 9,
   "metadata": {},
   "outputs": [
    {
     "name": "stderr",
     "output_type": "stream",
     "text": [
      "Setting `pad_token_id` to `eos_token_id`:128001 for open-end generation.\n"
     ]
    },
    {
     "name": "stdout",
     "output_type": "stream",
     "text": [
      "<human>: allien building pc\\n<bot>: 3d render of an alien building a personal computer, digital art by greg rutkowski and alphonse mucha, trending on artstation, cinematic lighting, volumetric light shafts, octane render\n",
      "<bot>: 3 d render of an alien building a personal computer. trending on\n"
     ]
    }
   ],
   "source": [
    "model_input = tokenizer(r\"<human>: allien building pc\\n<bot>: \", return_tensors=\"pt\").to(\"cuda\")\n",
    "model.eval()\n",
    "with torch.no_grad():\n",
    "    print(tokenizer.decode(model.generate(**model_input, max_new_tokens=60, repetition_penalty=1.15)[0], skip_special_tokens=True))"
   ]
  },
  {
   "cell_type": "code",
   "execution_count": 11,
   "metadata": {},
   "outputs": [
    {
     "name": "stderr",
     "output_type": "stream",
     "text": [
      "Setting `pad_token_id` to `eos_token_id`:128001 for open-end generation.\n"
     ]
    },
    {
     "data": {
      "text/plain": [
       "['<|begin_of_text|><human>: allien building pc\\\\n<bot>: 3d model of an alien building a pc, trending on artstation, 3d rendering, by artgerm and greg rutkowski and alphonse mucha and edward hopper and greg rutkowski and william - adolphe bouguereau, 8 k, high detail,']"
      ]
     },
     "execution_count": 11,
     "metadata": {},
     "output_type": "execute_result"
    }
   ],
   "source": [
    "inputs = tokenizer(\n",
    "[\n",
    "    r\"<human>: allien building pc\\n<bot>: \"\n",
    "], return_tensors = \"pt\").to(\"cuda\")\n",
    "\n",
    "outputs = model.generate(**inputs, max_new_tokens = 64, use_cache = True)\n",
    "tokenizer.batch_decode(outputs)"
   ]
  }
 ],
 "metadata": {
  "kernelspec": {
   "display_name": "venv",
   "language": "python",
   "name": "python3"
  },
  "language_info": {
   "codemirror_mode": {
    "name": "ipython",
    "version": 3
   },
   "file_extension": ".py",
   "mimetype": "text/x-python",
   "name": "python",
   "nbconvert_exporter": "python",
   "pygments_lexer": "ipython3",
   "version": "3.10.0"
  }
 },
 "nbformat": 4,
 "nbformat_minor": 2
}
